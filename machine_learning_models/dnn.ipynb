{
 "cells": [
  {
   "cell_type": "code",
   "execution_count": 1,
   "metadata": {},
   "outputs": [
    {
     "name": "stderr",
     "output_type": "stream",
     "text": [
      "2024-02-11 18:05:45.296530: I tensorflow/core/platform/cpu_feature_guard.cc:182] This TensorFlow binary is optimized to use available CPU instructions in performance-critical operations.\n",
      "To enable the following instructions: AVX2 FMA, in other operations, rebuild TensorFlow with the appropriate compiler flags.\n"
     ]
    }
   ],
   "source": [
    "import pandas as pd\n",
    "import numpy as np\n",
    "from sklearn.preprocessing import MinMaxScaler\n",
    "from sklearn.model_selection import train_test_split\n",
    "import tensorflow as tf"
   ]
  },
  {
   "cell_type": "code",
   "execution_count": 2,
   "metadata": {},
   "outputs": [
    {
     "name": "stdout",
     "output_type": "stream",
     "text": [
      "Epoch 1/10\n",
      "12569/12569 [==============================] - 15s 1ms/step - loss: 9.4004e-06 - val_loss: 2.9913e-07\n",
      "Epoch 2/10\n",
      "12569/12569 [==============================] - 14s 1ms/step - loss: 4.2214e-07 - val_loss: 4.2302e-07\n",
      "Epoch 3/10\n",
      "12569/12569 [==============================] - 17s 1ms/step - loss: 1.7941e-07 - val_loss: 8.7379e-08\n",
      "Epoch 4/10\n",
      "12569/12569 [==============================] - 17s 1ms/step - loss: 1.3048e-07 - val_loss: 2.0392e-08\n",
      "Epoch 5/10\n",
      "12569/12569 [==============================] - 16s 1ms/step - loss: 1.0697e-07 - val_loss: 3.2325e-08\n",
      "Epoch 6/10\n",
      "12569/12569 [==============================] - 15s 1ms/step - loss: 1.0161e-07 - val_loss: 1.8296e-08\n",
      "Epoch 7/10\n",
      "12569/12569 [==============================] - 15s 1ms/step - loss: 8.2683e-08 - val_loss: 2.1279e-08\n",
      "Epoch 8/10\n",
      "12569/12569 [==============================] - 15s 1ms/step - loss: 9.7463e-08 - val_loss: 2.9309e-07\n",
      "Epoch 9/10\n",
      "12569/12569 [==============================] - 15s 1ms/step - loss: 7.3609e-08 - val_loss: 6.3583e-08\n",
      "Epoch 10/10\n",
      "12569/12569 [==============================] - 16s 1ms/step - loss: 7.8313e-08 - val_loss: 2.5223e-07\n",
      "1572/1572 [==============================] - 1s 829us/step - loss: 2.2532e-07\n",
      "Test Loss: 2.2532344701176044e-07\n"
     ]
    }
   ],
   "source": [
    "# Load the cleaned data\n",
    "cleaned_data_file = '../data_cleaning_module/cleaned_data/HomeA-meter4_2016_updated.csv'\n",
    "\n",
    "df = pd.read_csv(cleaned_data_file)\n",
    "\n",
    "# Perform EDA if necessary (You can copy the EDA logic from data_cleaning.ipynb)\n",
    "\n",
    "# Data Preprocessing\n",
    "# Normalize the input features\n",
    "scaler = MinMaxScaler()\n",
    "X = scaler.fit_transform(df.drop(columns=['Date & Time']))\n",
    "y = df['use [kW]']\n",
    "\n",
    "# Split the data into training, validation, and test sets\n",
    "X_train, X_temp, y_train, y_temp = train_test_split(X, y, test_size=0.2, random_state=42)\n",
    "X_val, X_test, y_val, y_test = train_test_split(X_temp, y_temp, test_size=0.5, random_state=42)\n",
    "\n",
    "# Model Architecture\n",
    "model = tf.keras.Sequential([\n",
    "    tf.keras.layers.Dense(64, activation='relu', input_shape=(X_train.shape[1],)),\n",
    "    tf.keras.layers.Dense(64, activation='relu'),\n",
    "    tf.keras.layers.Dense(1)\n",
    "])\n",
    "\n",
    "# Compile the model\n",
    "model.compile(optimizer='adam', loss='mean_squared_error')\n",
    "\n",
    "# Train the model\n",
    "history = model.fit(X_train, y_train, epochs=10, validation_data=(X_val, y_val))\n",
    "\n",
    "# Evaluation\n",
    "test_loss = model.evaluate(X_test, y_test)\n",
    "print(\"Test Loss:\", test_loss)\n",
    "\n"
   ]
  }
 ],
 "metadata": {
  "kernelspec": {
   "display_name": "Python 3",
   "language": "python",
   "name": "python3"
  },
  "language_info": {
   "codemirror_mode": {
    "name": "ipython",
    "version": 3
   },
   "file_extension": ".py",
   "mimetype": "text/x-python",
   "name": "python",
   "nbconvert_exporter": "python",
   "pygments_lexer": "ipython3",
   "version": "3.11.5"
  }
 },
 "nbformat": 4,
 "nbformat_minor": 2
}
