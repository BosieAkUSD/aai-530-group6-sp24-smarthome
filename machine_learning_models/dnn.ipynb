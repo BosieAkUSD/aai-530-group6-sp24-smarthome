{
 "cells": [
  {
   "cell_type": "markdown",
   "metadata": {},
   "source": [
    "1. **Imports**:\n",
    "   - We import necessary libraries and modules:\n",
    "     - `pandas`: For data manipulation and analysis.\n",
    "     - `numpy`: For numerical computations.\n",
    "     - `MinMaxScaler` from `sklearn.preprocessing`: For feature scaling.\n",
    "     - `train_test_split` from `sklearn.model_selection`: For splitting the dataset into training and testing sets.\n",
    "     - `tensorflow` and its submodules: For building and training neural networks.\n",
    "     - `matplotlib.pyplot`: For data visualization.\n",
    "\n",
    "2. **Load Data**:\n",
    "   - We load the cleaned dataset from the CSV file using `pd.read_csv()`.\n",
    "\n",
    "3. **Data Preprocessing**:\n",
    "   - We scale the input features using `MinMaxScaler` to ensure they are on a similar scale.\n",
    "   - The dataset is split into training, validation, and test sets using `train_test_split()`.\n",
    "\n",
    "4. **Model Architecture - DNN**:\n",
    "   - We define the architecture of the Deep Neural Network (DNN) model using `Sequential()` from TensorFlow.keras.\n",
    "   - The model consists of multiple dense (fully connected) layers with ReLU activation functions.\n",
    "   - BatchNormalization layers are added to normalize the activations of the previous layer.\n",
    "   - Dropout layers are added to mitigate overfitting by randomly dropping a fraction of the connections during training.\n",
    "\n",
    "5. **Compile the Model**:\n",
    "   - We compile the model using the Adam optimizer and Mean Squared Error (MSE) loss function.\n",
    "\n",
    "6. **Callbacks**:\n",
    "   - EarlyStopping: Monitor the validation loss and stop training if there is no improvement for a certain number of epochs to prevent overfitting.\n",
    "   - ReduceLROnPlateau: Reduce the learning rate if the validation loss plateaus to help the model converge better.\n",
    "\n",
    "7. **Model Training**:\n",
    "   - We train the DNN model using the training data and validate it using the validation data.\n",
    "   - The model is trained for a maximum of 50 epochs with a batch size of 64 samples.\n",
    "\n",
    "8. **Evaluation**:\n",
    "   - We evaluate the trained model's performance on the test set using the test data.\n",
    "   - The test loss (MSE) is computed and printed to assess the model's generalization performance.\n",
    "\n",
    "9. **Visualization**:\n",
    "   - We plot the training and validation loss curves to visualize the training progress and identify potential overfitting.\n",
    "\n",
    "10. **Prediction**:\n",
    "    - Finally, we make predictions on the test set using the trained DNN model.\n",
    "\n",
    "This code implements a Deep Neural Network model for energy consumption prediction in smart home environments, incorporating advanced techniques such as batch normalization, dropout regularization, and early stopping. It aims to achieve accurate and robust predictions while preventing overfitting and ensuring efficient training convergence. Adjustments to hyperparameters and architecture can be made based on experimentation and evaluation results."
   ]
  },
  {
   "cell_type": "code",
   "execution_count": 1,
   "metadata": {},
   "outputs": [
    {
     "name": "stderr",
     "output_type": "stream",
     "text": [
      "2024-02-23 18:15:56.626595: I tensorflow/core/platform/cpu_feature_guard.cc:182] This TensorFlow binary is optimized to use available CPU instructions in performance-critical operations.\n",
      "To enable the following instructions: AVX2 FMA, in other operations, rebuild TensorFlow with the appropriate compiler flags.\n"
     ]
    }
   ],
   "source": [
    "import pandas as pd\n",
    "import numpy as np\n",
    "from sklearn.preprocessing import MinMaxScaler\n",
    "from sklearn.model_selection import train_test_split\n",
    "import tensorflow as tf\n",
    "from tensorflow.keras.layers import Dense, Dropout, BatchNormalization\n",
    "from tensorflow.keras.optimizers import Adam\n",
    "from tensorflow.keras.callbacks import EarlyStopping, ReduceLROnPlateau\n",
    "import matplotlib.pyplot as plt"
   ]
  },
  {
   "cell_type": "code",
   "execution_count": 2,
   "metadata": {},
   "outputs": [],
   "source": [
    "# Load the cleaned data\n",
    "cleaned_data_file = '../data_cleaning_module/cleaned_data/HomeA-meter4_2016_updated.csv'\n",
    "df = pd.read_csv(cleaned_data_file)\n",
    "\n",
    "# Data Preprocessing\n",
    "scaler = MinMaxScaler()\n",
    "df['Date & Time'] = pd.to_datetime(df['Date & Time'])  # Convert to datetime if not already\n",
    "df.sort_values(by='Date & Time', inplace=True)\n",
    "\n",
    "X = scaler.fit_transform(df.drop(columns=['Date & Time', 'Total Energy Demand']))\n",
    "y = df['Total Energy Demand']\n",
    "\n",
    "# Temporal Data Splitting\n",
    "train_size = int(0.8 * len(df))\n",
    "val_size = int(0.1 * len(df))\n",
    "\n",
    "X_train = X[:train_size]\n",
    "y_train = y[:train_size]\n",
    "\n",
    "X_val = X[train_size:train_size+val_size]\n",
    "y_val = y[train_size:train_size+val_size]\n",
    "\n",
    "X_test = X[train_size+val_size:]\n",
    "y_test = y[train_size+val_size:]\n",
    "\n"
   ]
  },
  {
   "cell_type": "code",
   "execution_count": 3,
   "metadata": {},
   "outputs": [
    {
     "name": "stdout",
     "output_type": "stream",
     "text": [
      "Epoch 1/50\n",
      "6285/6285 [==============================] - 17s 2ms/step - loss: 0.0505 - val_loss: 0.0015 - lr: 0.0010\n",
      "Epoch 2/50\n",
      "6285/6285 [==============================] - 14s 2ms/step - loss: 0.0060 - val_loss: 3.9025e-04 - lr: 0.0010\n",
      "Epoch 3/50\n",
      "6285/6285 [==============================] - 13s 2ms/step - loss: 0.0047 - val_loss: 9.1643e-04 - lr: 0.0010\n",
      "Epoch 4/50\n",
      "6285/6285 [==============================] - 13s 2ms/step - loss: 0.0042 - val_loss: 5.8190e-04 - lr: 0.0010\n",
      "Epoch 5/50\n",
      "6285/6285 [==============================] - 13s 2ms/step - loss: 0.0041 - val_loss: 5.7226e-04 - lr: 0.0010\n",
      "Epoch 6/50\n",
      "6285/6285 [==============================] - 14s 2ms/step - loss: 0.0038 - val_loss: 4.1838e-04 - lr: 2.0000e-04\n",
      "Epoch 7/50\n",
      "6285/6285 [==============================] - 15s 2ms/step - loss: 0.0037 - val_loss: 3.9206e-04 - lr: 2.0000e-04\n",
      "1572/1572 [==============================] - 2s 1ms/step - loss: 6.8390e-04\n",
      "Test Loss: 0.000683897000271827\n"
     ]
    }
   ],
   "source": [
    "# Model Architecture - DNN\n",
    "model = tf.keras.Sequential([\n",
    "    Dense(128, activation='relu', input_shape=(X_train.shape[1],)),\n",
    "    BatchNormalization(),\n",
    "    Dropout(0.2),\n",
    "    Dense(64, activation='relu'),\n",
    "    BatchNormalization(),\n",
    "    Dropout(0.2),\n",
    "    Dense(32, activation='relu'),\n",
    "    BatchNormalization(),\n",
    "    Dropout(0.2),\n",
    "    Dense(1)\n",
    "])\n",
    "\n",
    "# Compile the model\n",
    "optimizer = Adam(learning_rate=0.001)  # Update lr to learning_rate\n",
    "model.compile(optimizer=optimizer, loss='mean_squared_error')\n",
    "\n",
    "# Define callbacks for early stopping and learning rate reduction\n",
    "callbacks = [\n",
    "    EarlyStopping(monitor='val_loss', patience=5, restore_best_weights=True),\n",
    "    ReduceLROnPlateau(monitor='val_loss', factor=0.2, patience=3, min_lr=1e-6)\n",
    "]\n",
    "\n",
    "# Train the model\n",
    "history = model.fit(X_train, y_train, epochs=50, batch_size=64, validation_data=(X_val, y_val), callbacks=callbacks)\n",
    "\n",
    "# Evaluation\n",
    "test_loss = model.evaluate(X_test, y_test)\n",
    "print(\"Test Loss:\", test_loss)"
   ]
  },
  {
   "cell_type": "code",
   "execution_count": 4,
   "metadata": {},
   "outputs": [
    {
     "name": "stdout",
     "output_type": "stream",
     "text": [
      "Loss curve saved to: loss_curve.png\n"
     ]
    },
    {
     "data": {
      "image/png": "[encoded data removed]",
      "text/plain": [
       "<Figure size 640x480 with 1 Axes>"
      ]
     },
     "metadata": {},
     "output_type": "display_data"
    }
   ],
   "source": [
    "# Plot training and validation loss curves\n",
    "plt.plot(history.history['loss'], label='Training Loss')\n",
    "plt.plot(history.history['val_loss'], label='Validation Loss')\n",
    "plt.title('Training and Validation Loss')\n",
    "plt.xlabel('Epoch')\n",
    "plt.ylabel('Loss')\n",
    "plt.legend()\n",
    "\n",
    "# Save the graph to the same folder\n",
    "graph_file_path = 'loss_curve.png'  # Provide the file name directly\n",
    "plt.savefig(graph_file_path)\n",
    "\n",
    "# Display the saved graph file path\n",
    "print(\"Loss curve saved to:\", graph_file_path)"
   ]
  }
 ],
 "metadata": {
  "kernelspec": {
   "display_name": "Python 3",
   "language": "python",
   "name": "python3"
  },
  "language_info": {
   "codemirror_mode": {
    "name": "ipython",
    "version": 3
   },
   "file_extension": ".py",
   "mimetype": "text/x-python",
   "name": "python",
   "nbconvert_exporter": "python",
   "pygments_lexer": "ipython3",
   "version": "3.11.5"
  }
 },
 "nbformat": 4,
 "nbformat_minor": 2
}
